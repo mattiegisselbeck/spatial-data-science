{
 "cells": [
  {
   "attachments": {},
   "cell_type": "markdown",
   "metadata": {},
   "source": [
    "Lab 3 - Spatial Prediction <br>\n",
    "Mattie Gisselbeck <br>\n",
    "GIS 5572 - ArcGIS II <br>\n",
    "Start Date: March 29, 2023 <br>\n",
    "End Date: TBD"
   ]
  },
  {
   "attachments": {},
   "cell_type": "markdown",
   "metadata": {},
   "source": [
    "In the previous lab, we built a pipeline that extracts data from various platforms, perform QAQC operations on the imported data, saves the data to a local geodatabase, and then saves it to a PostgresSQL database hosted on Google Cloud. The objective of this lab was to create interpolated temperature maps for the state of Minnesota and evaluate their accuracy using the Lab 2 pipeline. The resulting maps and accuracy assessment will be stored in a local geodatabase and PostgresSQL database. The interpolated maps will be viewable on ArcGIS Online MapViewer via GeoJSON from a Flask API endpoint.\n",
    "<br>\n",
    "<br>\n",
    "Data Sources\n",
    "\n",
    "[Digital Elevation Model (DEM) - 30 Meter Resolution, Minnesota Geospatial Commons](https://gisdata.mn.gov/dataset/elev-30m-digital-elevation-model) <br>\n",
    "[NLCD Land Cover, 2019, Minnesota Geospatial Commons](https://gisdata.mn.gov/dataset/biota-landcover-nlcd-mn-2019) <br>\n",
    "[Brown Marmorated Stink Bug (BMSB) Observances, Minnesota, EDDMapS](https://www.eddmaps.org/distribution/viewmap.cfm?sub=9328) <br>\n",
    "[RWIS Daily Weather (Minnesota RWIS), Iowa Environmental Mesonet (IEM)](https://mesonet.agron.iastate.edu/api/1/docs#/)"
   ]
  },
  {
   "cell_type": "code",
   "execution_count": null,
   "metadata": {
    "vscode": {
     "languageId": "plaintext"
    }
   },
   "outputs": [],
   "source": [
    "import pandas as pd\n",
    "import arcpy\n",
    "import arcgis\n",
    "import requests\n",
    "import os\n",
    "import warnings\n",
    "import json\n",
    "import zipfile\n",
    "import io\n",
    "import shapefile\n",
    "import shapes\n",
    "\n",
    "warnings.filterwarnings(\"ignore\")"
   ]
  },
  {
   "cell_type": "code",
   "execution_count": null,
   "metadata": {
    "vscode": {
     "languageId": "plaintext"
    }
   },
   "outputs": [],
   "source": [
    "# NCLD Land Cover (2019), Minnesota - Minnesota Geospatial Commons\n",
    "landcover_path = r\"/Users/mattiegisselbeck/Documents/GIS5572/Lab2/NLCD_2019_Land_Cover.tif\"\n",
    "\n",
    "# Digital Elevation Model (DEM), Minnesota - Minnesota Geospatial Commons\n",
    "dem_path = r\"/Users/mattiegisselbeck/Documents/GIS5572/Lab2/elev_30m_digital_elevation_model.gdb/digital_elevation_model_30m\"\n",
    "\n",
    "# Brown Marmorated Stink Bug (BMSB) Observances, Minnesota - EDDMapS\n",
    "bmsb_path = r\"/Users/mattiegisselbeck/Documents/GIS5572/Lab2/BMSBObservances_EDDMapS.csv\""
   ]
  },
  {
   "attachments": {},
   "cell_type": "markdown",
   "metadata": {},
   "source": [
    "### Elevation Pipeline for Interpolation and Accuracy Assessment\n",
    "Tasks of Pipeline\n",
    "| ID | Task | Status\n",
    "| :---         |     :---      |    :---  | \n",
    "| 1 | Queries Elevation Data (Quality Assured) from PostgresSQL DB | Not Completed\n",
    "| 2 | Samples Elevation | Not Completed\n",
    "| 3 | Runs Interpolation Algorithms (Kriging, IDW, ANUDEM)| Not Completed\n",
    "| 4 | Saves the Interpolated Maps to GDB and PostgresSQL DB | Not Completed\n",
    "| 5 | Evaluates Interpolated Estimates of Each Model compared to the True DEM | Not Completed\n",
    "| 6 | Stores Accuracy Assessment for Each Model in AA Table in GDB and PostgresSQL DB | Not Completed\n",
    "| 7 | Stores Differences Between “Ground Truth” and Model Prediction in a Point Layer | Not Completed"
   ]
  },
  {
   "attachments": {},
   "cell_type": "markdown",
   "metadata": {},
   "source": [
    "Queries `Elevation` from PostgresSQL DB in Google Cloud Platform (GPC)\n",
    "<br>\n",
    "<br>\n",
    "Queries `Elevation` from PostgresSQL DB in Google Cloud Platform (GPC)"
   ]
  },
  {
   "cell_type": "code",
   "execution_count": null,
   "metadata": {
    "vscode": {
     "languageId": "plaintext"
    }
   },
   "outputs": [],
   "source": []
  },
  {
   "cell_type": "code",
   "execution_count": null,
   "metadata": {
    "vscode": {
     "languageId": "plaintext"
    }
   },
   "outputs": [],
   "source": []
  },
  {
   "cell_type": "code",
   "execution_count": null,
   "metadata": {
    "vscode": {
     "languageId": "plaintext"
    }
   },
   "outputs": [],
   "source": [
    "# Queries `Elevation` from PostgresSQL DB - Location: Google Cloud Platform"
   ]
  },
  {
   "attachments": {},
   "cell_type": "markdown",
   "metadata": {},
   "source": [
    "### `Temperature` Pipeline for Interpolation and Accuracy Assessment\n",
    "Tasks of Pipeline\n",
    "| ID | Task | Status \n",
    "| :---         |     :---      |    :---  | \n",
    "| 1 | Queries Temperature Data (Quality Assured) from PostgresSQL DB  | Not Completed\n",
    "| 2 | Runs Interpolation Algorithms (Kriging-Spherical, GPI Order 1, IDW) | Not Completed\n",
    "| 3 | Saves the Interpolated Maps to GDB and PostgresSQL DB | Not Completed\n",
    "| 4 | Evaluates the Accuracy of Each Map Using a Correct and Justified Approach and Appropriate Metrics | Not Completed\n",
    "| 5 | Stores Accuracy Assessment for Each Model in Accuracy Assessment Table in GDB and PostgresSQL DB | Not Completed\n",
    "| 6 | Stores Differences Between “Ground Truth” and Model Prediction in a Point Layer | Not Completed"
   ]
  }
 ],
 "metadata": {
  "kernelspec": {
   "display_name": "ArcGISPro",
   "language": "Python",
   "name": "python3"
  },
  "language_info": {
   "file_extension": ".py",
   "name": "python",
   "version": "3"
  }
 },
 "nbformat": 4,
 "nbformat_minor": 2
}
