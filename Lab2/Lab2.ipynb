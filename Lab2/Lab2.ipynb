{
 "cells": [
  {
   "attachments": {},
   "cell_type": "markdown",
   "metadata": {},
   "source": [
    "### Lab 2 - Data Quality and Model Evaluation\n",
    "#### Mattie Gisselbeck\n",
    "#### GIS 5572 - ArcGIS II\n",
    "#### March 20, 2023"
   ]
  },
  {
   "attachments": {},
   "cell_type": "markdown",
   "metadata": {},
   "source": [
    "The objective of this lab was to build a pipeline that extracts data from various platforms, perform QAQC operations on the imported data, saves the data to a local geodatabase, and then saves it to a PostgresSQL database hosted on Google Cloud.\n",
    "<br>\n",
    "<br>\n",
    "Data Sources\n",
    "\n",
    "[Digital Elevation Model (DEM) - 30 Meter Resolution, Minnesota Geospatial Commons](https://gisdata.mn.gov/dataset/elev-30m-digital-elevation-model) <br>\n",
    "[NLCD Land Cover, 2019, Minnesota Geospatial Commons](https://gisdata.mn.gov/dataset/biota-landcover-nlcd-mn-2019) <br>\n",
    "[Brown Marmorated Stink Bug (BMSB) Observances, Minnesota, EDDMapS](https://www.eddmaps.org/distribution/viewmap.cfm?sub=9328) <br>\n",
    "[RWIS Daily Weather (Minnesota RWIS), Iowa Environmental Mesonet (IEM)](https://mesonet.agron.iastate.edu/api/1/docs#/)"
   ]
  },
  {
   "cell_type": "code",
   "execution_count": null,
   "metadata": {},
   "outputs": [],
   "source": [
    "import pandas as pd\n",
    "import arcpy\n",
    "import arcgis\n",
    "import requests\n",
    "import os\n",
    "import warnings"
   ]
  },
  {
   "cell_type": "code",
   "execution_count": null,
   "metadata": {},
   "outputs": [],
   "source": [
    "# NCLD Land Cover (2019), Minnesota - Minnesota Geospatial Commons\n",
    "landcover_path = r\"/Users/mattiegisselbeck/Documents/GIS5572/Lab2/NLCD_2019_Land_Cover.tif\"\n",
    "\n",
    "# Digital Elevation Model (DEM), Minnesota - Minnesota Geospatial Commons\n",
    "dem_path = r\"/Users/mattiegisselbeck/Documents/GIS5572/Lab2/elev_30m_digital_elevation_model.gdb/digital_elevation_model_30m\"\n",
    "\n",
    "# Brown Marmorated Stink Bug (BMSB) Observances, Minnesota - EDDMapS\n",
    "bmsb_path = r\"/Users/mattiegisselbeck/Documents/GIS5572/Lab2/BMSBObservances_EDDMapS.csv\""
   ]
  },
  {
   "cell_type": "code",
   "execution_count": null,
   "metadata": {},
   "outputs": [],
   "source": [
    "# Output FGDB Path\n",
    "local_path = r\"/Users/mattiegisselbeck/Documents/GIS5572/Lab2/Lab2.gdb\" "
   ]
  },
  {
   "attachments": {},
   "cell_type": "markdown",
   "metadata": {},
   "source": [
    "## NCLD Land Cover and Digital Elevation Model (DEM), Minnesota - Minnesota Geospatial Commons\n",
    "### Quality Assurance (QA) "
   ]
  },
  {
   "cell_type": "code",
   "execution_count": null,
   "metadata": {},
   "outputs": [],
   "source": [
    "def check_raster(file_path, categorical=True, expected_cell_size=None, expected_srid=None, xmin=None, ymin=None, xmax=None, ymax=None):\n",
    "    \"\"\"\n",
    "    A function to check the quality of a raster dataset prior to using any methods to fix issues.\n",
    "    \"\"\"\n",
    "    # Check for Null Values\n",
    "    null_values = arcpy.management.GetRasterProperties(file_path, \"ANYNODATA\").getOutput(0)\n",
    "\n",
    "    if null_values == \"1\":\n",
    "        print(\"Null values exist.\")\n",
    "    else:\n",
    "        print(\"Null values do not exist.\")\n",
    "\n",
    "    # Check if Cell Size is Correct\n",
    "    x_size = float(arcpy.management.GetRasterProperties(file_path, \"CELLSIZEX\").getOutput(0))\n",
    "    y_size = float(arcpy.management.GetRasterProperties(file_path, \"CELLSIZEY\").getOutput(0))\n",
    "\n",
    "    if x_size == expected_cell_size and y_size == expected_cell_size:\n",
    "        print(\"Actual spatial resolution matches expected spatial resolution.\")\n",
    "    else:\n",
    "        print(\"Actual spatial resolution does not match expected spatial resolution.\")\n",
    "\n",
    "    # If Dataset is not Categorical, Check if there are Outliers\n",
    "    if categorical == False:\n",
    "        mean_val = float(arcpy.management.GetRasterProperties(file_path, \"MEAN\").getOutput(0))\n",
    "        std_val = float(arcpy.management.GetRasterProperties(file_path, \"STD\").getOutput(0))\n",
    "\n",
    "        max_val = float(arcpy.management.GetRasterProperties(file_path, \"MAXIMUM\").getOutput(0))\n",
    "        min_val = float(arcpy.management.GetRasterProperties(file_path, \"MINIMUM\").getOutput(0))\n",
    "\n",
    "        # Check if Min < Mean - 3 Std Devs or if Max > Mean + 3 Std Devs\n",
    "        if min_val < (mean_val - (3 * std_val)) or max_val > (mean_val + (3 * std_val)):\n",
    "            print(\"Outliers exist within the dataset. Values exist outside of +- 3 standard deviations of the mean.\")\n",
    "            else:\n",
    "            print(\"Outliers do not exist within the dataset. No values +- 3 standard deviations of the mean.\")\n",
    "    else:\n",
    "        print(\"Raster is categorical. Not checking for outliers.\")\n",
    "\n",
    "    # Check CRS of Raster\n",
    "    sr = arcpy.Describe(file_path).spatialReference\n",
    "\n",
    "    if expected_srid == None:\n",
    "        print(f\"Coordinate system of the raster is: {sr}\")\n",
    "    else:\n",
    "        arcpy_expected_sr = arcpy.SpatialReference(expected_srid)\n",
    "\n",
    "        if arcpy_expected_sr.factoryCode == sr.factoryCode:\n",
    "            print(\"Actual coordinate system matches expected coordinate system.\")\n",
    "        else:\n",
    "            print(\"Actual coordinate system does not match expected coordinate system.\")\n",
    "            print(f\"Coordinate system of the raster is: {sr.factoryCode}\")\n",
    "\n",
    "    # Check if Raster is within Bounding Box (an ArcPy Polygon, with the same CS)\n",
    "    if None not in [xmin, ymin, xmax, ymax]:\n",
    "        left = float(arcpy.management.GetRasterProperties(file_path, \"LEFT\").getOutput(0))\n",
    "        bottom = float(arcpy.management.GetRasterProperties(file_path, \"BOTTOM\").getOutput(0))\n",
    "        right = float(arcpy.management.GetRasterProperties(file_path, \"RIGHT\").getOutput(0))\n",
    "        top = float(arcpy.management.GetRasterProperties(file_path, \"TOP\").getOutput(0))\n",
    "        if left < xmin or bottom < ymin or right > xmax or top > ymax:\n",
    "            if left < xmin - 1 or bottom < ymin - 1 or right > xmax + 1 or top > ymax + 1:\n",
    "                print(\"Raster is within 1 degree of the bounding box coordinates. Use caution and consider inspecting manually.\")\n",
    "            else:\n",
    "                print(\"Raster is not completely contained within the bounding box coordinates.\")\n",
    "        else:\n",
    "            print(\"Raster is completely contained within the bounding box coordinates.\")\n",
    "    else:\n",
    "        print(\"Not checking bounding box.\")\n"
   ]
  },
  {
   "cell_type": "code",
   "execution_count": null,
   "metadata": {},
   "outputs": [],
   "source": [
    "# Checking NCLD Land Cover\n",
    "check_raster(landcover_path, True, 30, 26915, -97.5, 43.0, -89.00, 49.5)"
   ]
  },
  {
   "cell_type": "code",
   "execution_count": null,
   "metadata": {},
   "outputs": [],
   "source": [
    "# Checking Digital Elevation Model (DEM)\n",
    "check_raster(elevation_path, False, 30, 26915, -97.5, 43.0, -89.00, 49.5)"
   ]
  },
  {
   "attachments": {},
   "cell_type": "markdown",
   "metadata": {},
   "source": [
    "The extent of the NCLD Land Cover spans outside of state boundaries, so it was corrected by clipped to the Minnesota BBox."
   ]
  },
  {
   "cell_type": "code",
   "execution_count": null,
   "metadata": {},
   "outputs": [],
   "source": [
    "# Clipping NCLD Land Cover to Minnesota BBox\n",
    "arcpy.management.Clip(landcover_path, \"132660 4774410 791819 5491608\", os.path.join(out_local, \"clipped_landcover\"))"
   ]
  },
  {
   "attachments": {},
   "cell_type": "markdown",
   "metadata": {},
   "source": [
    "## Brown Marmorated Stink Bug (BMSB) Observances, Minnesota - EDDMapS\n",
    "### Quality Assurance (QA)"
   ]
  },
  {
   "cell_type": "code",
   "execution_count": null,
   "metadata": {},
   "outputs": [],
   "source": [
    "# Loading in BMSB Observations\n",
    "bmsb_df_raw = pd.read_csv(bmsb_path)\n",
    "\n",
    "# Create Copy DF with only Certain Columns\n",
    "bmsb_df = bmsb_df_raw[[\"objectid\", \"ObsDate\", \"Location\", \"Latitude\", \"Longitude\", \"NumCollect\"]].copy()\n",
    "\n",
    "# Filter where Location Contains 'Minnesota'\n",
    "bmsb_df = bmsb_df[bmsb_df[\"Location\"].str.contains(\"Minnesota\")]\n",
    "\n",
    "# Fill 'NumCollect' Nulls with 1\n",
    "bmsb_df[\"NumCollect\"].fillna(1, inplace=True)\n",
    "\n",
    "# Drop Rows with Null 'Latitude' or 'Longitude'\n",
    "bmsb_df = bmsb_df.dropna(subset=[\"Latitude\", \"Longitude\"])\n",
    "\n",
    "# Convert Data Types\n",
    "bmsb_df[\"Location\"] = bmsb_df[\"Location\"].astype(str)\n",
    "bmsb_df[\"ObsDate\"] = bmsb_df[\"ObsDate\"].astype('datetime64[ns]')\n",
    "bmsb_df[\"NumCollect\"] = bmsb_df[\"NumCollect\"].astype(int)\n",
    "\n",
    "# Reconfigure the Location Column to just show County Name\n",
    "bmsb_df[\"Location\"] = bmsb_df[\"Location\"].apply(lambda x: x.replace('\"', ''))\n",
    "bmsb_df[\"County\"] = bmsb_df[\"Location\"].apply(lambda x: x.split(\",\")[0])\n",
    "bmsb_df = bmsb_df.drop([\"Location\"], axis=1)\n",
    "\n",
    "# Drop Rows where 'NumCollect' < 1\n",
    "bmsb_df = bmsb_df.loc[~bmsb_df[\"NumCollect\"] < 1]\n",
    "\n",
    "# Drop Rows where 'NumCollect' are Outliers (> 1 Std Dev above the Mean)\n",
    "numMean = bmsb_df[\"NumCollect\"].mean()\n",
    "numStd = bmsb_df[\"NumCollect\"].std()\n",
    "\n",
    "bmsb_df = bmsb_df.loc[~bmsb_df[\"NumCollect\"] < numMean + numStd]\n",
    "\n",
    "# Drop Rows where Lat/Lon are Outside MN BBox\n",
    "bmsb_df = bmsb_df.loc[bmsb_df[\"Longitude\"] > -97.5]\n",
    "bmsb_df = bmsb_df.loc[bmsb_df[\"Longitude\"] < -89.0]\n",
    "bmsb_df = bmsb_df.loc[bmsb_df[\"Latitude\"] > 43.0]\n",
    "bmsb_df = bmsb_df.loc[bmsb_df[\"Latitude\"] < 49.5]\n",
    "\n",
    "# Result\n",
    "bmsb_df"
   ]
  },
  {
   "cell_type": "code",
   "execution_count": null,
   "metadata": {},
   "outputs": [],
   "source": [
    "# Convert BMSB Observations from DF to SEDF\n",
    "bmsb_sedf = arcgis.GeoAccessor.from_xy(bmsb_df, \"Longitude\", \"Latitude\")\n",
    "\n",
    "# Convert BMSB Observations from SEDF to FC\n",
    "bmsb_sedf.spatial.to_featureclass(location=os.path.join(out_local, \"bmsb_observations\"))"
   ]
  },
  {
   "attachments": {},
   "cell_type": "markdown",
   "metadata": {},
   "source": [
    "## Daily Weather, Minnesota - Iowa Environmental Mesonet\n",
    "### GET Request"
   ]
  },
  {
   "cell_type": "code",
   "execution_count": null,
   "metadata": {},
   "outputs": [],
   "source": [
    "# Request weather data from 153 weather stations of the RWIS Minnesota Network selecting a random day\n",
    "link = r'https://mesonet.agron.iastate.edu/api/1/daily.geojson?date=2023-03-15&network=MN_RWIS'\n",
    "info = json.loads(requests.get(link).text)\n",
    "location = []\n",
    "for i in range(len(info['features'])):\n",
    "    # Store the station and its coordinates\n",
    "    location.append({'station': info['features'][i]['properties']['station'], \n",
    "                     'coordinates': info['features'][i]['geometry']['coordinates']})\n",
    "\n",
    "\n",
    "# Request daily weather data by year (2023)\n",
    "url = r'https://mesonet.agron.iastate.edu/api/1/daily.geojson?network=MN_RWIS&year=2023'\n",
    "weather = json.loads(requests.get(url).text)\n",
    "\n",
    "# Delete all the unnesscary weather variables and keep only minimum and maximum temperature\n",
    "delete = [\n",
    "      \"tmpf_est\",\n",
    "      \"precip\",\n",
    "      \"precip_est\",\n",
    "      \"max_gust\",\n",
    "      \"snow\",\n",
    "      \"snowd\",\n",
    "      \"min_rh\",\n",
    "      \"max_rh\",\n",
    "      \"min_dwpf\",\n",
    "      \"max_dwpf\",\n",
    "      \"min_feel\",\n",
    "      \"max_feel\",\n",
    "      \"min_rstage\",\n",
    "      \"max_rstage\",\n",
    "      \"temp_hour\",\n",
    "      \"max_gust_localts\",\n",
    "      \"max_drct\",\n",
    "      \"avg_feel\", \n",
    "      \"avg_sknt\", \n",
    "      \"vector_avg_drct\", \n",
    "      \"id\"\n",
    "]\n",
    "\n",
    "for i in range(len(weather['features'])):\n",
    "    for key in delete:\n",
    "        del weather['features'][i]['properties'][key]"
   ]
  },
  {
   "cell_type": "code",
   "execution_count": null,
   "metadata": {},
   "outputs": [],
   "source": [
    "# Request Minnesota State Boundary from Minnesota Geospatial Commons\n",
    "mnboundary_url = \"https://resources.gisdata.mn.gov/pub/gdrs/data/pub/us_mn_state_dot/bdry_state/shp_bdry_state.zip\"\n",
    "mnboundary = requests.post(mnboundary_url)\n",
    "zipfile.ZipFile(io.BytesIO(mnboundary.content)).extractall(wksp)\n",
    "\n",
    "# Project Boundaries_of_Minnesota.shp\n",
    "sr = arcpy.SpatialReference(4326)\n",
    "arcpy.Project_management('Boundaries_of_Minnesota.shp', 'MinnesotaBoundry.shp', sr)"
   ]
  },
  {
   "attachments": {},
   "cell_type": "markdown",
   "metadata": {},
   "source": [
    "### Quality Assurance (QA)"
   ]
  },
  {
   "attachments": {},
   "cell_type": "markdown",
   "metadata": {},
   "source": [
    "Note: the optimum range is 62-99 F, but a different range is used to train the code as the temperature recorded for 2023 is still below the optimum range due to the winter."
   ]
  },
  {
   "cell_type": "code",
   "execution_count": null,
   "metadata": {},
   "outputs": [],
   "source": [
    "def ranges_intersect(range1, range2):\n",
    "    \"\"\"\n",
    "    Returns True if the two ranges intersect, False otherwise.\n",
    "    Each range is a tuple of two numbers representing the minimum and maximum values of the range.\n",
    "    \"\"\"\n",
    "    if range1[1] < range2[0] or range2[1] < range1[0]:\n",
    "        return False\n",
    "    else:\n",
    "        return True\n",
    "    \n",
    "# Define optimal temperature for BMSB\n",
    "lower_temp = 10 #62\n",
    "upper_temp = 50 #99\n",
    "opt_temp = range(lower_temp, upper_temp+1)"
   ]
  },
  {
   "cell_type": "code",
   "execution_count": null,
   "metadata": {},
   "outputs": [],
   "source": [
    "# Read in the shapefile data for Minnesota\n",
    "sf = shapefile.Reader(\"minnesota.shp\")\n",
    "shapes = sf.shapes()\n",
    "state_border = shapes[0]\n",
    "\n",
    "# Create a shapely Polygon object from the state border shape\n",
    "border_polygon = shape(state_border)\n",
    "\n",
    "# Create an empty list to add the not useful readings\n",
    "wrong = []\n",
    "\n",
    "# Add all the not useful readings to a list\n",
    "for i in range(len(weather['features'])):\n",
    "    \n",
    "    # Readings whose temp readings are None\n",
    "    if weather['features'][i]['properties']['min_tmpf'] == None or weather['features'][i]['properties']['max_tmpf'] == None:\n",
    "        wrong.append(weather['features'][i])\n",
    "        continue\n",
    "    \n",
    "    # Stations outside of Minnesota\n",
    "    point = Point(weather['features'][i]['geometry']['coordinates'])\n",
    "    if not border_polygon.contains(point):\n",
    "        wrong.append(weather['features'][i])\n",
    "        continue\n",
    "        \n",
    "    # Readings whose min and max temp are the same. This is an indicator of wrong data\n",
    "    if weather['features'][i]['properties']['min_tmpf'] == weather['features'][i]['properties']['max_tmpf']:\n",
    "        wrong.append(weather['features'][i])\n",
    "        continue\n",
    "        \n",
    "    # Readings whose temp is outside of the optimum range\n",
    "    lower_limit = math.floor(weather['features'][i]['properties']['min_tmpf'])\n",
    "    upper_limit = math.ceil(weather['features'][i]['properties']['max_tmpf'])\n",
    "    range_temp = range(lower_limit, upper_limit)\n",
    "    \n",
    "    # Readings not representative of the broader region if max and min temp are similar\n",
    "    if len(range_temp) == 1:\n",
    "        wrong.append(weather['features'][i]) \n",
    "        continue\n",
    "    \n",
    "# Delete the not useful readings \n",
    "for element in wrong:\n",
    "    weather['features'].remove(element)"
   ]
  },
  {
   "cell_type": "code",
   "execution_count": null,
   "metadata": {},
   "outputs": [],
   "source": [
    "# Checking the Monthly Average Temperature\n",
    "\n",
    "stations = []\n",
    "# Add the dictionaries to a data frame\n",
    "for j in range(len(weather['features'])):\n",
    "    stations.append(weather['features'][j]['properties'])\n",
    "df = pd.DataFrame.from_dict(stations)\n",
    "\n",
    "# Remove the day part from the date leaving only year and month\n",
    "for i in range(len(df['date'])):\n",
    "    df['date'][i] = df['date'][i][:7]\n",
    "    \n",
    "# Get monthly average min and max temperature for each station\n",
    "grouped = df.groupby(['station', 'date', 'name']).agg('mean')\n",
    "grouped.reset_index(inplace=True)\n",
    "\n",
    "# Return data to a dictionary\n",
    "mean = grouped.to_dict('records')"
   ]
  },
  {
   "cell_type": "code",
   "execution_count": null,
   "metadata": {},
   "outputs": [],
   "source": [
    "# Add the geometry to the stations\n",
    "mean_tmp = []\n",
    "for i in range(len(mean)):\n",
    "    for j in range(len(location)):\n",
    "        if mean[i]['station'] == location[j]['station']:\n",
    "            mean_tmp.append({'type': 'Feature', 'properties': mean[i], \n",
    "                             'geometry': {'type': 'Point', 'coordinates': location[j]['coordinates']}})\n",
    "            \n",
    "# Remove monthly average temperature if outside of the optimum range\n",
    "bad_data = []\n",
    "for i in range(len(mean_tmp)):\n",
    "    lower_limit = math.floor(mean_tmp[i]['properties']['min_tmpf'])\n",
    "    upper_limit = math.ceil(mean_tmp[i]['properties']['max_tmpf'])\n",
    "    range_temp = range(lower_limit, upper_limit)\n",
    "    # Temperature outside the optimum range is flagged\n",
    "    if ranges_intersect(opt_temp, range_temp) == False:\n",
    "        bad_data.append(mean_tmp[i])\n",
    "        \n",
    "# Delete the not useful readings \n",
    "for element in bad_data:\n",
    "    mean_tmp.remove(element)"
   ]
  },
  {
   "cell_type": "code",
   "execution_count": null,
   "metadata": {},
   "outputs": [],
   "source": [
    "schema =  {'geometry': 'Point', 'properties': {'station': 'str', 'date': 'str', 'name': 'str', 'max_tmpf': 'float', 'min_tmpf': 'float'}}\n",
    "\n",
    "with fiona.open(\"stations.shp\", 'w', crs = from_epsg(4326), driver = 'ESRI Shapefile', schema = schema) as output:\n",
    "    for i in range(len(mean_tmp)):\n",
    "          # geometry\n",
    "          point = Point(mean_tmp[i]['geometry']['coordinates'])\n",
    "          # attributes\n",
    "          prop = mean_tmp[i]['properties']\n",
    "          # write the row (geometry + attributes in GeoJSON format)\n",
    "          output.write({'geometry': geometry.mapping(point), 'properties':prop})"
   ]
  },
  {
   "attachments": {},
   "cell_type": "markdown",
   "metadata": {},
   "source": [
    "#### Save Weather Data to PostgresSQL Database (Google Cloud)"
   ]
  },
  {
   "cell_type": "code",
   "execution_count": null,
   "metadata": {},
   "outputs": [],
   "source": [
    "# Connect to PostgreSQL Database (Google Cloud)\n",
    "connection = psycopg2.connect(host = '34.27.219.64',\n",
    "                              port = '5432',\n",
    "                              database = 'lab1',\n",
    "                              user = 'postgres',\n",
    "                              password = 'student',\n",
    "                             )"
   ]
  },
  {
   "cell_type": "code",
   "execution_count": null,
   "metadata": {},
   "outputs": [],
   "source": [
    "data = (\"stations.shp\")\n",
    "# fields I want from shapefile\n",
    "fields = [\"station\", \"date\", \"name\", \"max_tmpf\", \"min_tmpf\", \"Shape@WKT\"]\n",
    "\n",
    "# pscopg2 connection, replace *** and *** with your values\n",
    "cursor = connection.cursor()\n",
    "cursor.execute(\"DROP TABLE IF EXISTS stations\")\n",
    "cursor.execute(\"\"\"\n",
    "    CREATE TABLE stations (\n",
    "        id SERIAL,\n",
    "        station VARCHAR,\n",
    "        date VARCHAR,\n",
    "        name VARCHAR,\n",
    "        max_tmpf DOUBLE PRECISION,\n",
    "        min_tmpf DOUBLE PRECISION)\n",
    "\"\"\")\n",
    "\n",
    "cursor.execute(\"\"\"\n",
    "    SELECT AddGeometryColumn('stations', 'geom', 4326, 'POINT', 2)\n",
    "\"\"\")\n",
    "\n",
    "# use arcpy to get attribute data, populate PostGIS using psycopg2\n",
    "with arcpy.da.SearchCursor(data, fields) as da_cursor:\n",
    "    for row in da_cursor:\n",
    "        wkt = row[5]\n",
    "        # this was tough - everything needs to be a string and text being inserted wrapped in '' including wkt\n",
    "        cursor.execute(\"INSERT INTO stations (station, date, name, max_tmpf, min_tmpf, geom) VALUES (%s, %s, %s, %s, %s, ST_GeomFromText(%s, 4326))\", (row[0], row[1], row[2], row[3], row[4], wkt))\n",
    "\n",
    "connection.commit()\n",
    "\n",
    "# Close database connection\n",
    "connection.close()"
   ]
  },
  {
   "attachments": {},
   "cell_type": "markdown",
   "metadata": {},
   "source": [
    "#### Export from Local FGDB to PostgreSQL (Google Cloud)"
   ]
  },
  {
   "cell_type": "code",
   "execution_count": null,
   "metadata": {},
   "outputs": [],
   "source": [
    "# Set up SDE Connection using PGAdmin & Catalog Pane in ArcGIS Pro\n",
    "sde = r\"/Users/mattiegisselbeck/Documents/GIS5572/Lab2/Lab2.sde\"\n",
    "\n",
    "# Export Vectors to Postgres\n",
    "arcpy.conversion.FeatureClassToGeodatabase(\n",
    "    f'{os.path.join(out_local, \"daily_weather\")};{os.path.join(out_local, \"bmsb_observations\")}',\n",
    "    sde\n",
    ")\n",
    "\n",
    "# Export Rasters to Postgres\n",
    "arcpy.conversion.RasterToGeodatabase(\n",
    "    f'{os.path.join(out_local, \"land_cover\")};{os.path.join(out_local, \"digital_elevation_model_30m\")}',\n",
    "    sde\n",
    ")"
   ]
  }
 ],
 "metadata": {
  "kernelspec": {
   "display_name": "ArcGISPro",
   "language": "Python",
   "name": "python3"
  },
  "language_info": {
   "file_extension": ".py",
   "name": "python",
   "version": "3"
  }
 },
 "nbformat": 4,
 "nbformat_minor": 2
}
