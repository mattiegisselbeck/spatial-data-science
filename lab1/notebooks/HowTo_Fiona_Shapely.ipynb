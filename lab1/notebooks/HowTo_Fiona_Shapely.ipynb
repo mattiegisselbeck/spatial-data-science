{
 "cells": [
  {
   "cell_type": "markdown",
   "metadata": {},
   "source": [
    "## How To: Fiona/Shapely"
   ]
  },
  {
   "cell_type": "markdown",
   "metadata": {},
   "source": [
    "Create a Feature Class"
   ]
  },
  {
   "cell_type": "code",
   "execution_count": null,
   "metadata": {},
   "outputs": [],
   "source": [
    "with fiona.open('filename.shp')"
   ]
  },
  {
   "cell_type": "markdown",
   "metadata": {},
   "source": [
    "Add Points to a Feature Class"
   ]
  },
  {
   "cell_type": "code",
   "execution_count": null,
   "metadata": {},
   "outputs": [],
   "source": [
    "# Defines the object in a standard format (i.e., geoJSON)\n",
    "eiffel_tower =  {\n",
    "    'geometry': {\n",
    "        'type': 'Point',\n",
    "        'coordinates': (448252, 5411935)\n",
    "    },\n",
    "    'properties': OrderedDict([\n",
    "        ('name', 'Eiffel Tower'),\n",
    "        ('height', 300.01),\n",
    "        ('view', 'scenic'),\n",
    "        ('year', 1889)\n",
    "    ])\n",
    "}\n",
    "\n",
    "# Sets driver, crs, and schema\n",
    "driver = \"\"GeoJson\"\" # or \"\"ESRI Shapefile\"\"\n",
    "from fiona.crs import from_epsg\n",
    "crs = from_epsg(25831) #webmercator, set this to your epsg\n",
    " \n",
    "# Opens the file with Fiona and writes it\n",
    "with fiona.open(\n",
    "    '/tmp/foo.geojson',\n",
    "    'w',\n",
    "    driver=output_driver,\n",
    "    crs=landmarks_crs,\n",
    "    schema=landmarks_schema) as c:\n",
    "    c.write(eiffel_tower)\n",
    "\n",
    "schema = {'geometry' : { 'type': 'Point',...}}\n",
    "with fiona.open('filename.shp', schema = schema) as file:"
   ]
  },
  {
   "cell_type": "markdown",
   "metadata": {},
   "source": [
    "Add Line(s) to a Feature Class"
   ]
  },
  {
   "cell_type": "code",
   "execution_count": null,
   "metadata": {},
   "outputs": [],
   "source": [
    "schema = {'geometry' : { 'type': 'Line',...}} with fiona.open('filename.shp', schema = schema) as file:"
   ]
  },
  {
   "cell_type": "markdown",
   "metadata": {},
   "source": [
    "Add Polygon(s) to a Feature Class"
   ]
  },
  {
   "cell_type": "code",
   "execution_count": null,
   "metadata": {},
   "outputs": [],
   "source": [
    "schema = {'geometry' : { 'type': 'Polygon',...}}\n",
    "with fiona.open('filename.shp', schema = schema) as file:"
   ]
  },
  {
   "cell_type": "markdown",
   "metadata": {},
   "source": [
    "View Each Row in an Attribute Table for a Feature Class"
   ]
  },
  {
   "cell_type": "code",
   "execution_count": null,
   "metadata": {},
   "outputs": [],
   "source": [
    "\"c = fiona.open(\"\"filename.shp\"\",\"\"r\"\")\n",
    "val = c[0]\n",
    "for item in c:    \n",
    "    pprint.pprint(val)\""
   ]
  },
  {
   "cell_type": "markdown",
   "metadata": {},
   "source": [
    "View Each Geometry Object in a Feature Class"
   ]
  },
  {
   "cell_type": "code",
   "execution_count": null,
   "metadata": {},
   "outputs": [],
   "source": [
    "Use the Points(), Linestrings(), and Polygons()\n",
    "shapely functions to display features of interest \n",
    "from input coordinates"
   ]
  },
  {
   "cell_type": "markdown",
   "metadata": {},
   "source": [
    "Summarize the Contents of a Feature Class"
   ]
  },
  {
   "cell_type": "code",
   "execution_count": null,
   "metadata": {},
   "outputs": [],
   "source": [
    "\"with fiona.open('filepath.shp', 'r') as c:\n",
    "     print(c.schema) \""
   ]
  },
  {
   "cell_type": "markdown",
   "metadata": {},
   "source": [
    "Export to Shapefile"
   ]
  },
  {
   "cell_type": "code",
   "execution_count": null,
   "metadata": {},
   "outputs": [],
   "source": [
    "\"with fiona.open('newfilename.shp', 'w') as c:\n",
    "     driver, crs, and schema\n",
    "     print(\"\"success\"\")\n",
    "\n",
    "from shapely.geometry import mapping, Polygon\n",
    "import fiona\n",
    "\n",
    "# Example of Shapely geometry\n",
    "poly = Polygon([(0, 0), (0, 1), (1, 1), (0, 0)])\n",
    "\n",
    "# Defines a polygon feature geometry with one attribute\n",
    "schema = {\n",
    "    'geometry': 'Polygon',\n",
    "    'properties': {'id': 'int'},\n",
    "}\n",
    "\n",
    "# Writes a new shapefile\n",
    "with fiona.open('my_shp2.shp', 'w', 'ESRI Shapefile', schema) as c:\n",
    "    ## If there are multiple geometries, put the \"\"for\"\" loop here:\n",
    "    c.write({\n",
    "        'geometry': mapping(poly),\n",
    "        'properties': {'id': 123},\n",
    "    })\"\n",
    "    \n",
    "# Documentation: https://gis.stackexchange.com/questions/52705/writing-shapely-geometries-to-shapefiles"
   ]
  },
  {
   "cell_type": "markdown",
   "metadata": {},
   "source": [
    "Export to Geodatabase"
   ]
  },
  {
   "cell_type": "code",
   "execution_count": null,
   "metadata": {},
   "outputs": [],
   "source": [
    "with fiona.open('newfilename.gdb', 'w') as c:\n",
    "     driver, crs, and schema\n",
    "     print(\"success\")"
   ]
  }
 ],
 "metadata": {
  "kernelspec": {
   "display_name": "ArcGISPro",
   "language": "Python",
   "name": "python3"
  },
  "language_info": {
   "file_extension": ".py",
   "name": "python",
   "version": "3"
  }
 },
 "nbformat": 4,
 "nbformat_minor": 2
}
