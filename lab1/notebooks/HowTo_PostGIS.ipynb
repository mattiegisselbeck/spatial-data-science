{
 "cells": [
  {
   "attachments": {},
   "cell_type": "markdown",
   "metadata": {},
   "source": [
    "## How To: PostGIS"
   ]
  },
  {
   "cell_type": "markdown",
   "metadata": {},
   "source": [
    "Create a Feature Class"
   ]
  },
  {
   "cell_type": "code",
   "execution_count": null,
   "metadata": {},
   "outputs": [],
   "source": [
    "CREATE TABLE table_name \n",
    "(area_id integer, name varchar(128), area_size float, type varchar(10), zone sde.st_geometry);"
   ]
  },
  {
   "cell_type": "markdown",
   "metadata": {},
   "source": [
    "Add Points to a Feature Class"
   ]
  },
  {
   "cell_type": "code",
   "execution_count": null,
   "metadata": {},
   "outputs": [],
   "source": [
    "CREATE TABLE geometries (name varchar, geom geometry);\n",
    "INSERT INTO geometries VALUES ('Point', 'POINT (0 0))"
   ]
  },
  {
   "cell_type": "markdown",
   "metadata": {},
   "source": [
    "Add Line(s) to a Feature Class"
   ]
  },
  {
   "cell_type": "code",
   "execution_count": null,
   "metadata": {},
   "outputs": [],
   "source": [
    "CREATE TABLE geometries (name varchar, geom geometry);\n",
    "INSERT INTO geometries\n",
    "VALUES ('Linestring', 'LINESTRING(0 0, 1 1, 2 1, 2 2)')"
   ]
  },
  {
   "cell_type": "markdown",
   "metadata": {},
   "source": [
    "Add Polygon(s) to a Feature Class"
   ]
  },
  {
   "cell_type": "code",
   "execution_count": null,
   "metadata": {},
   "outputs": [],
   "source": [
    "CREATE TABLE geometries (name varchar, geom geometry);\n",
    "INSERT INTO geometries\n",
    "VALUES ('Polygon', 'POLYGON((0 0, 1 0, 1 1, 0 1, 0 0))')"
   ]
  },
  {
   "cell_type": "code",
   "execution_count": null,
   "metadata": {},
   "outputs": [],
   "source": [
    "CREATE TABLE geometries (name varchar, geom geometry);\n",
    "\n",
    "INSERT INTO geometries VALUES\n",
    "  ('Point', 'POINT(0 0)'),\n",
    "  ('Linestring', 'LINESTRING(0 0, 1 1, 2 1, 2 2)'),\n",
    "  ('Polygon', 'POLYGON((0 0, 1 0, 1 1, 0 1, 0 0))'),\n",
    "  ('PolygonWithHole', 'POLYGON((0 0, 10 0, 10 10, 0 10, 0 0),(1 1, 1 2, 2 2, 2 1, 1 1))'),\n",
    "  ('Collection', 'GEOMETRYCOLLECTION(POINT(2 0),POLYGON((0 0, 1 0, 1 1, 0 1, 0 0)))');\n",
    "\n",
    "SELECT name, ST_AsText(geom) FROM geometries;\n",
    "\n",
    "# Documentation: http://postgis.net/workshops/postgis-intro/geometries.html"
   ]
  },
  {
   "cell_type": "markdown",
   "metadata": {},
   "source": [
    "View Each Row in an Attribute Table for a Feature Class"
   ]
  },
  {
   "cell_type": "code",
   "execution_count": null,
   "metadata": {},
   "outputs": [],
   "source": [
    "SELECT *\n",
    "FROM table;"
   ]
  },
  {
   "cell_type": "markdown",
   "metadata": {},
   "source": [
    "View Each Geometry Object in a Feature Class"
   ]
  },
  {
   "cell_type": "code",
   "execution_count": null,
   "metadata": {},
   "outputs": [],
   "source": [
    "SELECT geometry_columns\n",
    "FROM table;"
   ]
  },
  {
   "cell_type": "markdown",
   "metadata": {},
   "source": [
    "Summarize the Contents of a Feature Class"
   ]
  },
  {
   "cell_type": "code",
   "execution_count": null,
   "metadata": {},
   "outputs": [],
   "source": [
    "CREATE INDEX [indexname] ON [tablename] USING BRIN ( [geog_col] ); \n",
    "\n",
    "# Documentation: https://postgis.net/docs/using_postgis_dbmanagement.html"
   ]
  },
  {
   "cell_type": "code",
   "execution_count": null,
   "metadata": {},
   "outputs": [],
   "source": [
    "SELECT ST_Summary(ST_GeomFromText('LINESTRING(0 0, 1 1)')) as geom,\n",
    "        ST_Summary(ST_GeogFromText('POLYGON((0 0, 1 1, 1 2, 1 1, 0 0))')) geog;\n",
    "        \n",
    "# Documentation: https://postgis.net/docs/ST_Summary.html "
   ]
  },
  {
   "cell_type": "markdown",
   "metadata": {},
   "source": [
    "Export to Shapefile"
   ]
  },
  {
   "cell_type": "code",
   "execution_count": null,
   "metadata": {},
   "outputs": [],
   "source": [
    "import ogr2ogr\n",
    "\n",
    "ogr2ogr -f \"PostgreSQL\" PG:\"host=localhost port=5432 dbname=osm user=postgres password=password\" filename.shp -overwrite -progress --config PG_USE_COPY YES"
   ]
  },
  {
   "cell_type": "markdown",
   "metadata": {},
   "source": [
    "Export to Geodatabase"
   ]
  },
  {
   "cell_type": "code",
   "execution_count": null,
   "metadata": {},
   "outputs": [],
   "source": [
    "import ogr2ogr\n",
    "\n",
    "ogr2ogr -f \"PostgreSQL\" PG:\"host=localhost port=5432 dbname=osm user=postgres password=password\" filename.shp -overwrite -progress --config PG_USE_COPY YES"
   ]
  }
 ],
 "metadata": {
  "kernelspec": {
   "display_name": "ArcGISPro",
   "language": "Python",
   "name": "python3"
  },
  "language_info": {
   "file_extension": ".py",
   "name": "python",
   "version": "3"
  }
 },
 "nbformat": 4,
 "nbformat_minor": 2
}
