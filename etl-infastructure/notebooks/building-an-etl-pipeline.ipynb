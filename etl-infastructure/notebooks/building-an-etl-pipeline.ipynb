{
 "cells": [
  {
   "cell_type": "markdown",
   "metadata": {},
   "source": [
    "Mattie Gisselbeck\n",
    "\n",
    "GIS 5572: Spatial Data Science II\n",
    "    \n",
    "Lab 1.2"
   ]
  },
  {
   "cell_type": "code",
   "execution_count": 77,
   "metadata": {},
   "outputs": [],
   "source": [
    "import psycopg2\n",
    "import requests\n",
    "import json\n",
    "import os\n",
    "from arcgis.gis import GIS\n",
    "from arcgis.features import FeatureLayerCollection"
   ]
  },
  {
   "cell_type": "code",
   "execution_count": null,
   "metadata": {},
   "outputs": [],
   "source": [
    "# Sets Environment \n",
    "arcpy.env.workspace = \"\\\\Mac\\Home\\Documents\\ArcGIS\\Projects\\Lab1_2\"\n",
    "wksp = arcpy.env.workspace"
   ]
  },
  {
   "cell_type": "markdown",
   "metadata": {},
   "source": [
    "1.2.1: Creates a Polygon using ArcPy Geometry Primitives "
   ]
  },
  {
   "cell_type": "code",
   "execution_count": 20,
   "metadata": {},
   "outputs": [],
   "source": [
    "# Creates List of Points\n",
    "point_list = [arcpy.Point(1, 1), arcpy.Point(1, 2), arcpy.Point(2, 2), arcpy.Point(2, 1), arcpy.Point(1, 1)]\n",
    "\n",
    "# Creates Polygon from the Array\n",
    "polygon = arcpy.Polygon(arcpy.Array(point_list))"
   ]
  },
  {
   "cell_type": "markdown",
   "metadata": {},
   "source": [
    "1.2.2: Converts Polygon to .WKT"
   ]
  },
  {
   "cell_type": "code",
   "execution_count": 21,
   "metadata": {},
   "outputs": [],
   "source": [
    "wkt = polygon.WKT"
   ]
  },
  {
   "cell_type": "markdown",
   "metadata": {},
   "source": [
    "1.2.3: Loads Polygon into Postgres DB Using psycopg2"
   ]
  },
  {
   "cell_type": "code",
   "execution_count": 30,
   "metadata": {},
   "outputs": [],
   "source": [
    "# Connects to PostgresSQL Database Using psycopg2\n",
    "connection = psycopg2.connect(host = '34.133.121.12',\n",
    "                              database = 'lab1',\n",
    "                              user = 'postgres',\n",
    "                              password = 'student',\n",
    "                             )\n",
    "cursor = connection.cursor()\n",
    "\n",
    "# Creates and populates table in the PostgresSQL Database\n",
    "cursor.execute(\"CREATE TABLE IF NOT EXISTS polygon_table (id SERIAL PRIMARY KEY, geom GEOMETRY)\")\n",
    "cursor.execute(\"INSERT INTO polygon_table (geom) VALUES (ST_GeomFromText('{}', 4326))\".format(polygon.WKT))\n",
    "connection.commit()\n",
    "connection.close()"
   ]
  },
  {
   "cell_type": "markdown",
   "metadata": {},
   "source": [
    "1.2.3: get_polygon Application Using Flask"
   ]
  },
  {
   "cell_type": "code",
   "execution_count": null,
   "metadata": {},
   "outputs": [],
   "source": [
    "# Installs PostGIS, psycopg2, and Flask in SSH\n",
    "# Note: This is in the VM Instance SSH-in-browser in Google Cloud. \n",
    "sudo apt-get update\n",
    "sudo apt-get install postgis\n",
    "pip install psycopg2-binary\n",
    "pip install Flask"
   ]
  },
  {
   "cell_type": "code",
   "execution_count": 66,
   "metadata": {},
   "outputs": [],
   "source": [
    "# Creates get_polygon application and posts to SSH using Flask\n",
    "# Note: This is in the VM Instance SSH-in-browser in Google Cloud. \n",
    "\n",
    "import psycopg2\n",
    "from flask import Flask, jsonify\n",
    "\n",
    "app = Flask(__name__)\n",
    "\n",
    "@app.route('/', methods=['GET']) \n",
    "def get_geojson():\n",
    "    reponse = get_polygon()\n",
    "    return response\n",
    "\n",
    "def get_polygon():\n",
    "cursor = connection.cursor()\n",
    "cursor.execute(\"SELECT ST_AsGeoJSON(location) FROM polygon_table;\") result = cursor.fetchone()\n",
    "if result is None:\n",
    "return jsonify({'error': 'Polygon not found'}), 404\n",
    "    else:\n",
    "        return jsonify({'geojson': result[0]})\n",
    "    \n",
    "if __name__ == \"__main__\":\n",
    "app.run(debug=True, host='0.0.0.0', port=5000)\n",
    "\n",
    "@app.route('/print_data', methods=['POST'])\n",
    "def print_data():\n",
    "print(\"*********************\")\n",
    "print(\"*********************\")\n",
    "print(request.method) \n",
    "print(request.data) \n",
    "print(\"*********************\")\n",
    "print(\"*********************\")\n",
    "return \"Accepted 202 - post received; printed to console\""
   ]
  },
  {
   "cell_type": "markdown",
   "metadata": {},
   "source": [
    "1.2.4: Retrieving polygon.geojson via Google Cloud VM Instance API "
   ]
  },
  {
   "cell_type": "code",
   "execution_count": 69,
   "metadata": {},
   "outputs": [
    {
     "data": {
      "text/plain": [
       "{'type': 'MultiPolygon', 'coordinates': [[[1.00012207, 1.00012207], [2.00012207, 1.00012207], [2.00012207, 2.00012207], [1.00012207, 2.00012207], [1.00012207, 1.00012207]]]}"
      ]
     },
     "execution_count": 69,
     "metadata": {},
     "output_type": "execute_result"
    }
   ],
   "source": [
    "# Retrives polygon.geojson from Google Cloud VM Instance API\n",
    "api = r'http://34.29.175.222:5000/'\n",
    "dictionary = json.loads(requests.get(api).text)\n",
    "\n",
    "# Corrects formatting by removing a pair of brackets\n",
    "sub = dictionary['geojson'].replace(\"[[[[\", \"[[[\").replace(\"]]]]\", \"]]]\")\n",
    "\n",
    "# Converts string into a JSON dictionary\n",
    "json_dictionary = json.loads(sub)\n",
    "json_dictionary"
   ]
  },
  {
   "cell_type": "code",
   "execution_count": null,
   "metadata": {},
   "outputs": [],
   "source": [
    "# Creates a GeoJSON dictionary\n",
    "geojson = {\n",
    "  \"type\": \"FeatureCollection\",\n",
    "  \"features\": [\n",
    "    {\n",
    "      \"type\": \"Feature\",\n",
    "      \"properties\": {},\n",
    "      \"geometry\": {\n",
    "        \"coordinates\": dictionary_2['coordinates'],\n",
    "        \"type\": \"Polygon\"\n",
    "      }\n",
    "    }\n",
    "  ]\n",
    "}\n",
    "\n",
    "# Sets path file for the GeoJSON dictionary\n",
    "path = os.path.join(wksp, 'geojson.json')\n",
    "with open (path, 'w') as json_file:\n",
    "    json.dump(geojson, json_file)"
   ]
  },
  {
   "cell_type": "markdown",
   "metadata": {},
   "source": [
    "1.2.5: Publishes polygon.geojson to ArcGIS Online"
   ]
  },
  {
   "cell_type": "code",
   "execution_count": null,
   "metadata": {},
   "outputs": [],
   "source": [
    "# Signs into ArcGIS Online\n",
    "username = 'username'\n",
    "password = 'password'\n",
    "gis = GIS('https://www.arcgis.com', username, password)\n",
    "\n",
    "# Publishes polygon.geojson as a Feature Layer to ArcGIS Online\n",
    "item = gis.content.add({'type': 'GeoJson'}, 'geojson.json')\n",
    "feature_layer_item = item.publish()\n",
    "feature_layer_url = feature_layer_item.url"
   ]
  }
 ],
 "metadata": {
  "kernelspec": {
   "display_name": "Python 3 (ipykernel)",
   "language": "python",
   "name": "python3"
  },
  "language_info": {
   "codemirror_mode": {
    "name": "ipython",
    "version": 3
   },
   "file_extension": ".py",
   "mimetype": "text/x-python",
   "name": "python",
   "nbconvert_exporter": "python",
   "pygments_lexer": "ipython3",
   "version": "3.9.7"
  }
 },
 "nbformat": 4,
 "nbformat_minor": 4
}
